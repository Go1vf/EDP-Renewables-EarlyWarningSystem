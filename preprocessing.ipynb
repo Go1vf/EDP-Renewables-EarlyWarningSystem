{
 "cells": [
  {
   "cell_type": "code",
   "execution_count": 1,
   "metadata": {},
   "outputs": [],
   "source": [
    "import pandas as pd\n",
    "import numpy as np\n",
    "\n",
    "data_path = \"./data/\"\n",
    "\n",
    "import warnings\n",
    "warnings.filterwarnings(action=\"ignore\")"
   ]
  },
  {
   "cell_type": "code",
   "execution_count": 2,
   "metadata": {},
   "outputs": [],
   "source": [
    "# Read Signals Data File\n",
    "signals_training = pd.read_csv(data_path + \"wind-farm-1-signals-training.csv\", sep=\";\")\n",
    "signals_training['Timestamp'] = pd.to_datetime(signals_training['Timestamp'])\n",
    "signals_training = signals_training.groupby(['Turbine_ID', 'Timestamp']).last().reset_index()\n",
    "turbines_id = list(pd.unique(signals_training['Turbine_ID']))\n",
    "\n",
    "# Seperate Systems\n",
    "signal_variables = signals_training.columns.to_list()\n",
    "bearings_variables = list(filter(lambda x: x.startswith(\"Gen_Bear\"), signal_variables))\n",
    "generator_variables = list(filter(lambda x: x.startswith(\"Gen\") and not x.startswith(\"Gen_Bear\"), signal_variables))\n",
    "gearbox_variables = list(filter(lambda x: x.startswith(\"Gear\"), signal_variables))\n",
    "transformer_variables = list(filter(lambda x: x.startswith(\"HVTrafo\"), signal_variables))\n",
    "hydraulic_variables = list(filter(lambda x: x.startswith(\"Hyd\"), signal_variables))\n",
    "\n",
    "# Seperate System Signals\n",
    "bearings = signals_training[['Turbine_ID','Timestamp'] + bearings_variables]\n",
    "generators = signals_training[['Turbine_ID','Timestamp'] + generator_variables]\n",
    "gearbox = signals_training[['Turbine_ID','Timestamp'] + gearbox_variables]\n",
    "transformer = signals_training[['Turbine_ID','Timestamp'] + transformer_variables]\n",
    "hydraulic = signals_training[['Turbine_ID','Timestamp'] + hydraulic_variables]"
   ]
  },
  {
   "cell_type": "code",
   "execution_count": 4,
   "metadata": {},
   "outputs": [],
   "source": [
    "# Read Weather Data File\n",
    "weather_training = pd.read_csv(data_path + \"wind-farm-1-metmast-training.csv\", sep=\";\")\n",
    "weather_training['Timestamp'] = pd.to_datetime(weather_training['Timestamp'])\n",
    "weather_training = weather_training.groupby(['Timestamp']).first().reset_index()\n",
    "weather_variables = weather_training.columns.to_list()\n",
    "weather_variables.remove('Timestamp')"
   ]
  },
  {
   "cell_type": "code",
   "execution_count": 5,
   "metadata": {},
   "outputs": [],
   "source": [
    "# Read Default Data File\n",
    "failures = pd.read_csv(data_path + \"htw-failures-training.csv\")\n",
    "failures['Timestamp'] = pd.to_datetime(failures['Timestamp'])\n",
    "failures['Timestamp'] = failures['Timestamp'].dt.round('10T')\n",
    "failures['Label'] = 1"
   ]
  },
  {
   "cell_type": "code",
   "execution_count": 7,
   "metadata": {},
   "outputs": [
    {
     "name": "stdout",
     "output_type": "stream",
     "text": [
      "The following signal data is missing when defaults happen: T11, 2016-03-03 19:00:00+00:00, GENERATOR\n",
      "The following signal data is missing when defaults happen: T06, 2016-07-11 19:50:00+00:00, GENERATOR\n",
      "The following signal data is missing when defaults happen: T06, 2017-08-19 09:50:00+00:00, HYDRAULIC_GROUP\n"
     ]
    }
   ],
   "source": [
    "\"\"\"\n",
    "    At the exact time of some defaults, no signal values were available\n",
    "    Record the time, turbine and system of defaults that will be missing after merge\n",
    "\"\"\"\n",
    "\n",
    "missing_signals = {\n",
    "    'GENERATOR': [],\n",
    "    'HYDRAULIC_GROUP': [],\n",
    "    'GENERATOR_BEARING': [],\n",
    "    'TRANSFORMER': [],\n",
    "    'GEARBOX': []\n",
    "}\n",
    "\n",
    "for _, row in failures.iterrows():\n",
    "    idx, time, comp = row['Turbine_ID'], row['Timestamp'], row['Component']\n",
    "    data = signal_dic[comp]\n",
    "    data = data[(data['Turbine_ID'] == idx) & (data['Timestamp'] == time)]\n",
    "    if(len(data) == 0):\n",
    "        print(f'The following signal data is missing when defaults happen: {idx}, {time}, {comp}')\n",
    "        missing_signals[comp].append(pd.DataFrame({'Turbine_ID': idx, 'Timestamp': time, 'Label': 1}, index=[0]))"
   ]
  },
  {
   "cell_type": "code",
   "execution_count": 8,
   "metadata": {},
   "outputs": [],
   "source": [
    "# Calculate the lead time of default\n",
    "def get_Lead_Time(group):\n",
    "    group['Next_Default_Date'] = group['Timestamp'].where(group['Label'] == 1).fillna(method='bfill')\n",
    "    \n",
    "    # Fillna with a infinite future date when no record of default\n",
    "    infinite_future_date = pd.to_datetime('2262-04-11 00:00:00')\n",
    "    infinite_future_date = infinite_future_date.tz_localize('UTC')\n",
    "    group['Next_Default_Date'].fillna(infinite_future_date, inplace=True)\n",
    "\n",
    "    group['Lead_Time'] = (group['Next_Default_Date'] - group['Timestamp']).dt.days\n",
    "    return group"
   ]
  },
  {
   "cell_type": "code",
   "execution_count": 6,
   "metadata": {},
   "outputs": [],
   "source": [
    "\"\"\"\n",
    "    Combine the signals, weather and default data\n",
    "    Append the missing data recorded\n",
    "    Fillna using forward fill\n",
    "    Calculate lead time and whether there is default in 60 days\n",
    "\"\"\"\n",
    "\n",
    "signal_dic = {\n",
    "    'GENERATOR': generators,\n",
    "    'HYDRAULIC_GROUP': hydraulic,\n",
    "    'GENERATOR_BEARING': bearings,\n",
    "    'TRANSFORMER': transformer,\n",
    "    'GEARBOX': gearbox\n",
    "}\n",
    "\n",
    "processed = {}\n",
    "\n",
    "for comp, data in signal_dic.items():\n",
    "    temp = pd.merge(\n",
    "        data, \n",
    "        weather_training, \n",
    "        how='left', \n",
    "        on='Timestamp'\n",
    "        )\n",
    "    temp = pd.merge(\n",
    "        temp, \n",
    "        failures[failures['Component'] == comp][['Turbine_ID','Timestamp','Label']], \n",
    "        how='left', \n",
    "        on=['Turbine_ID','Timestamp']\n",
    "        )\n",
    "    for line in missing_signals[comp]:\n",
    "        temp = pd.concat([temp, line])\n",
    "    temp.sort_values(by=['Turbine_ID', 'Timestamp'], inplace=True)\n",
    "    temp.Label.fillna(0, inplace=True)\n",
    "    temp = temp.groupby('Turbine_ID').apply(lambda x: x.fillna(method='ffill')).reset_index(drop=True)\n",
    "    temp = temp.groupby('Turbine_ID').apply(get_Lead_Time).reset_index(drop=True)\n",
    "    temp['Default_in_60'] = temp['Lead_Time'] <= 60\n",
    "    processed[comp] = temp"
   ]
  },
  {
   "cell_type": "code",
   "execution_count": 10,
   "metadata": {},
   "outputs": [],
   "source": [
    "# Check that no NaN is in processed data\n",
    "for comp, data in processed.items():\n",
    "    assert(data.isna().sum().sum() == 0)"
   ]
  },
  {
   "cell_type": "code",
   "execution_count": 11,
   "metadata": {},
   "outputs": [],
   "source": [
    "save_data_path = \"./data/\"\n",
    "for comp, data in processed.items():\n",
    "    data.to_csv(save_data_path+comp+\"_processed.csv\", index=False)"
   ]
  }
 ],
 "metadata": {
  "kernelspec": {
   "display_name": "base",
   "language": "python",
   "name": "python3"
  },
  "language_info": {
   "codemirror_mode": {
    "name": "ipython",
    "version": 3
   },
   "file_extension": ".py",
   "mimetype": "text/x-python",
   "name": "python",
   "nbconvert_exporter": "python",
   "pygments_lexer": "ipython3",
   "version": "3.8.8"
  },
  "orig_nbformat": 4,
  "vscode": {
   "interpreter": {
    "hash": "ad2bdc8ecc057115af97d19610ffacc2b4e99fae6737bb82f5d7fb13d2f2c186"
   }
  }
 },
 "nbformat": 4,
 "nbformat_minor": 2
}
