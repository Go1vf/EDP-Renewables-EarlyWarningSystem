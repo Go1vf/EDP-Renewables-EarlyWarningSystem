{
 "cells": [
  {
   "cell_type": "code",
   "execution_count": 1,
   "metadata": {},
   "outputs": [],
   "source": [
    "import pandas as pd\n",
    "\n",
    "data_path = \"./data/\"\n",
    "\n",
    "import warnings\n",
    "warnings.filterwarnings(action=\"ignore\")"
   ]
  },
  {
   "cell_type": "code",
   "execution_count": 2,
   "metadata": {},
   "outputs": [],
   "source": [
    "signals_training = pd.read_csv(data_path + \"wind-farm-1-signals-training.csv\", sep=\";\")\n",
    "signals_training['Timestamp'] = pd.to_datetime(signals_training['Timestamp'])\n",
    "turbines_id = list(pd.unique(signals_training['Turbine_ID']))"
   ]
  },
  {
   "cell_type": "code",
   "execution_count": 3,
   "metadata": {},
   "outputs": [],
   "source": [
    "signal_variables = signals_training.columns.to_list()\n",
    "bearings_variables = list(filter(lambda x: x.startswith(\"Gen_Bear\"), signal_variables))\n",
    "generator_variables = list(filter(lambda x: x.startswith(\"Gen\") and not x.startswith(\"Gen_Bear\"), signal_variables))\n",
    "gearbox_variables = list(filter(lambda x: x.startswith(\"Gear\"), signal_variables))\n",
    "transformer_variables = list(filter(lambda x: x.startswith(\"HVTrafo\"), signal_variables))\n",
    "hydraulic_variables = list(filter(lambda x: x.startswith(\"Hyd\"), signal_variables))\n",
    "\n",
    "bearings = signals_training[['Turbine_ID','Timestamp'] + bearings_variables]\n",
    "generators = signals_training[['Turbine_ID','Timestamp'] + generator_variables]\n",
    "gearbox = signals_training[['Turbine_ID','Timestamp'] + gearbox_variables]\n",
    "transformer = signals_training[['Turbine_ID','Timestamp'] + transformer_variables]\n",
    "hydraulic = signals_training[['Turbine_ID','Timestamp'] + hydraulic_variables]"
   ]
  },
  {
   "cell_type": "code",
   "execution_count": 4,
   "metadata": {},
   "outputs": [],
   "source": [
    "weather_training = pd.read_csv(data_path + \"wind-farm-1-metmast-training.csv\", sep=\";\")\n",
    "weather_training['Timestamp'] = pd.to_datetime(weather_training['Timestamp'])\n",
    "weather_variables = weather_training.columns.to_list()\n",
    "weather_variables.remove('Timestamp')"
   ]
  },
  {
   "cell_type": "code",
   "execution_count": 5,
   "metadata": {},
   "outputs": [],
   "source": [
    "failures = pd.read_csv(data_path + \"htw-failures-training.csv\")\n",
    "failures['Timestamp'] = pd.to_datetime(failures['Timestamp'])\n",
    "failures['Timestamp'] = failures['Timestamp'].dt.round('10T')\n",
    "failures['Label'] = 1"
   ]
  },
  {
   "cell_type": "code",
   "execution_count": 6,
   "metadata": {},
   "outputs": [],
   "source": [
    "signal_dic = {\n",
    "    'GENERATOR': generators,\n",
    "    'HYDRAULIC_GROUP': hydraulic,\n",
    "    'GENERATOR_BEARING': bearings,\n",
    "    'TRANSFORMER': transformer,\n",
    "    'GEARBOX': gearbox\n",
    "}"
   ]
  },
  {
   "cell_type": "code",
   "execution_count": 8,
   "metadata": {},
   "outputs": [],
   "source": [
    "processed = {}\n",
    "\n",
    "for comp, data in signal_dic.items():\n",
    "    df = pd.DataFrame()\n",
    "    for t in turbines_id:\n",
    "        temp = pd.merge(\n",
    "            data[data['Turbine_ID'] == t], \n",
    "            weather_training, \n",
    "            how=\"outer\", \n",
    "            on='Timestamp'\n",
    "            ).merge(\n",
    "                failures[failures['Component'] == comp][['Turbine_ID','Timestamp','Label']],\n",
    "                how=\"outer\",\n",
    "                on=['Turbine_ID','Timestamp']\n",
    "                )\n",
    "        temp.sort_values(by=['Timestamp'], inplace=True)\n",
    "        temp.Label.fillna(0, inplace=True)\n",
    "        temp.fillna(method='ffill', inplace=True)\n",
    "        df = pd.concat([df, temp])\n",
    "    processed[comp] = df"
   ]
  },
  {
   "cell_type": "code",
   "execution_count": 9,
   "metadata": {},
   "outputs": [],
   "source": [
    "for comp, data in processed.items():\n",
    "    assert(data.isna().sum().sum() == 0)"
   ]
  },
  {
   "cell_type": "code",
   "execution_count": 13,
   "metadata": {},
   "outputs": [],
   "source": [
    "save_data_path = \"./data/\"\n",
    "for comp, data in processed.items():\n",
    "    data.to_csv(save_data_path+comp+\"_processed.csv\", index=False)"
   ]
  }
 ],
 "metadata": {
  "kernelspec": {
   "display_name": "myenv",
   "language": "python",
   "name": "python3"
  },
  "language_info": {
   "codemirror_mode": {
    "name": "ipython",
    "version": 3
   },
   "file_extension": ".py",
   "mimetype": "text/x-python",
   "name": "python",
   "nbconvert_exporter": "python",
   "pygments_lexer": "ipython3",
   "version": "3.9.18 (main, Sep 11 2023, 14:09:26) [MSC v.1916 64 bit (AMD64)]"
  },
  "orig_nbformat": 4,
  "vscode": {
   "interpreter": {
    "hash": "de1e89af3ef8b17e93d79e53c27fdd6267335e03ee420ef3296d6319bf4dd9be"
   }
  }
 },
 "nbformat": 4,
 "nbformat_minor": 2
}
