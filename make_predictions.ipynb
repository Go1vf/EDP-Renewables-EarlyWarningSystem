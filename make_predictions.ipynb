{
 "cells": [
  {
   "cell_type": "code",
   "execution_count": 1,
   "metadata": {},
   "outputs": [],
   "source": [
    "import numpy as np\n",
    "import pandas as pd\n",
    "import tensorflow as tf\n",
    "import matplotlib.pyplot as plt\n",
    "import joblib\n",
    "\n",
    "import warnings\n",
    "warnings.filterwarnings(action=\"ignore\")\n",
    "\n",
    "from simple_neural_network.nn_model import NNModel\n",
    "from simple_neural_network.process_xy import Process_XYData"
   ]
  },
  {
   "attachments": {},
   "cell_type": "markdown",
   "metadata": {},
   "source": [
    "### Hydraulic Group"
   ]
  },
  {
   "cell_type": "code",
   "execution_count": 44,
   "metadata": {},
   "outputs": [],
   "source": [
    "def read(data_path):\n",
    "    df = pd.read_csv(data_path)\n",
    "    df['Timestamp'] = pd.to_datetime(df['Timestamp'])\n",
    "    df.sort_values(by=['Turbine_ID','Timestamp'], inplace=True)\n",
    "    return df\n",
    "\n",
    "df = read(\"./data/all_signals_hourly_processed.csv\")\n",
    "df_test = read(\"./data/test_signals_hourly_processed.csv\")\n",
    "select_feat = pd.read_csv(\"./saved_results/select_feat.csv\")"
   ]
  },
  {
   "cell_type": "code",
   "execution_count": 45,
   "metadata": {},
   "outputs": [],
   "source": [
    "for c in df.columns[-20:]:\n",
    "    df_test[c] = None\n",
    "last_60 = df_test['Timestamp'].min() - np.timedelta64(60, 'D')\n",
    "df_train_last60 = df[df['Timestamp'] >= last_60]\n",
    "df_test = pd.concat([df_test, df_train_last60]).groupby(by=['Turbine_ID','Timestamp']).first().reset_index()"
   ]
  },
  {
   "cell_type": "code",
   "execution_count": 46,
   "metadata": {},
   "outputs": [],
   "source": [
    "feat_list = select_feat['feature'].to_list()\n",
    "feat_list.remove('const')\n",
    "df_test = df_test[df_test.iloc[:, :2].columns.to_list() + feat_list + df_test.iloc[:, -20:].columns.to_list()]"
   ]
  },
  {
   "cell_type": "code",
   "execution_count": 47,
   "metadata": {},
   "outputs": [],
   "source": [
    "# Parameters\n",
    "steps = [24, 3*24, 7*24, 14*24]\n",
    "subsystem = \"HYDRAULIC_GROUP\""
   ]
  },
  {
   "cell_type": "code",
   "execution_count": 48,
   "metadata": {},
   "outputs": [],
   "source": [
    "process = Process_XYData()\n",
    "test_xy = process.get_XY_with_steps(df_test, subsystem, None, steps)"
   ]
  },
  {
   "cell_type": "code",
   "execution_count": 49,
   "metadata": {},
   "outputs": [
    {
     "data": {
      "text/plain": [
       "(21042, 169)"
      ]
     },
     "execution_count": 49,
     "metadata": {},
     "output_type": "execute_result"
    }
   ],
   "source": [
    "X_test, _, _, _, _ = process.split_component(test_xy)\n",
    "X_test.shape"
   ]
  },
  {
   "cell_type": "code",
   "execution_count": 50,
   "metadata": {},
   "outputs": [],
   "source": [
    "nn_model = NNModel(X_test.shape[1])\n",
    "nn_model.load_model(\"./saved_models/model_for_test_HYDRAULIC_GROUP1\")"
   ]
  },
  {
   "cell_type": "code",
   "execution_count": 51,
   "metadata": {},
   "outputs": [
    {
     "name": "stdout",
     "output_type": "stream",
     "text": [
      "658/658 [==============================] - 2s 2ms/step\n"
     ]
    }
   ],
   "source": [
    "test_xy['Pred'] = nn_model.predict(X_test, threshold=0.9)"
   ]
  },
  {
   "cell_type": "code",
   "execution_count": 54,
   "metadata": {},
   "outputs": [
    {
     "data": {
      "text/html": [
       "<div>\n",
       "<style scoped>\n",
       "    .dataframe tbody tr th:only-of-type {\n",
       "        vertical-align: middle;\n",
       "    }\n",
       "\n",
       "    .dataframe tbody tr th {\n",
       "        vertical-align: top;\n",
       "    }\n",
       "\n",
       "    .dataframe thead th {\n",
       "        text-align: right;\n",
       "    }\n",
       "</style>\n",
       "<table border=\"1\" class=\"dataframe\">\n",
       "  <thead>\n",
       "    <tr style=\"text-align: right;\">\n",
       "      <th></th>\n",
       "      <th>Turbine_ID</th>\n",
       "      <th>Timestamp</th>\n",
       "    </tr>\n",
       "  </thead>\n",
       "  <tbody>\n",
       "    <tr>\n",
       "      <th>0</th>\n",
       "      <td>T01</td>\n",
       "      <td>2017-08-27 10:00:00</td>\n",
       "    </tr>\n",
       "    <tr>\n",
       "      <th>1</th>\n",
       "      <td>T06</td>\n",
       "      <td>2017-08-30 01:00:00</td>\n",
       "    </tr>\n",
       "    <tr>\n",
       "      <th>2</th>\n",
       "      <td>T11</td>\n",
       "      <td>2017-09-01 07:00:00</td>\n",
       "    </tr>\n",
       "    <tr>\n",
       "      <th>3</th>\n",
       "      <td>T11</td>\n",
       "      <td>2017-09-17 09:00:00</td>\n",
       "    </tr>\n",
       "  </tbody>\n",
       "</table>\n",
       "</div>"
      ],
      "text/plain": [
       "  Turbine_ID           Timestamp\n",
       "0        T01 2017-08-27 10:00:00\n",
       "1        T06 2017-08-30 01:00:00\n",
       "2        T11 2017-09-01 07:00:00\n",
       "3        T11 2017-09-17 09:00:00"
      ]
     },
     "execution_count": 54,
     "metadata": {},
     "output_type": "execute_result"
    }
   ],
   "source": [
    "res = test_xy[test_xy['Pred'] == 1][['Turbine_ID','Timestamp']].reset_index(drop=True)\n",
    "res\n",
    "# res.to_csv(f\"./saved_results/res_{subsystem}.csv\", index=False)"
   ]
  },
  {
   "attachments": {},
   "cell_type": "markdown",
   "metadata": {},
   "source": [
    "### Gearbox"
   ]
  },
  {
   "cell_type": "code",
   "execution_count": 24,
   "metadata": {},
   "outputs": [],
   "source": [
    "def read(data_path):\n",
    "    df = pd.read_csv(data_path)\n",
    "    df['Timestamp'] = pd.to_datetime(df['Timestamp'])\n",
    "    df.sort_values(by=['Turbine_ID','Timestamp'], inplace=True)\n",
    "    return df\n",
    "\n",
    "df = read(\"./data/all_signals_hourly_processed.csv\")\n",
    "df_test = read(\"./data/test_signals_hourly_processed.csv\")\n",
    "select_feat = pd.read_csv(\"./saved_results/select_feat.csv\")"
   ]
  },
  {
   "cell_type": "code",
   "execution_count": 25,
   "metadata": {},
   "outputs": [],
   "source": [
    "for c in df.columns[-20:]:\n",
    "    df_test[c] = None\n",
    "last_60 = df_test['Timestamp'].min() - np.timedelta64(60, 'D')\n",
    "df_train_last60 = df[df['Timestamp'] >= last_60]\n",
    "df_test = pd.concat([df_test, df_train_last60]).groupby(by=['Turbine_ID','Timestamp']).first().reset_index()"
   ]
  },
  {
   "cell_type": "code",
   "execution_count": 26,
   "metadata": {},
   "outputs": [],
   "source": [
    "feat_list = select_feat['feature'].to_list()\n",
    "feat_list.remove('const')\n",
    "df_test = df_test[df_test.iloc[:, :2].columns.to_list() + feat_list + df_test.iloc[:, -20:].columns.to_list()]"
   ]
  },
  {
   "cell_type": "code",
   "execution_count": 27,
   "metadata": {},
   "outputs": [],
   "source": [
    "# Parameters\n",
    "steps = [24, 3*24, 7*24, 14*24]\n",
    "subsystem = \"GEARBOX\""
   ]
  },
  {
   "cell_type": "code",
   "execution_count": 28,
   "metadata": {},
   "outputs": [],
   "source": [
    "process = Process_XYData()\n",
    "test_xy = process.get_XY_with_steps(df_test, subsystem, None, steps)"
   ]
  },
  {
   "cell_type": "code",
   "execution_count": 29,
   "metadata": {},
   "outputs": [
    {
     "data": {
      "text/plain": [
       "(21042, 169)"
      ]
     },
     "execution_count": 29,
     "metadata": {},
     "output_type": "execute_result"
    }
   ],
   "source": [
    "X_test, _, _, _, _ = process.split_component(test_xy)\n",
    "X_test.shape"
   ]
  },
  {
   "cell_type": "code",
   "execution_count": 30,
   "metadata": {},
   "outputs": [],
   "source": [
    "nn_model = NNModel(X_test.shape[1])\n",
    "nn_model.load_model(\"./saved_models/model_for_test_GEARBOX\")\n",
    "nn_model1 = NNModel(X_test.shape[1])\n",
    "nn_model1.load_model(\"./saved_models/model_for_test_GEARBOX1\")"
   ]
  },
  {
   "cell_type": "code",
   "execution_count": 31,
   "metadata": {},
   "outputs": [
    {
     "name": "stdout",
     "output_type": "stream",
     "text": [
      "658/658 [==============================] - 2s 3ms/step\n",
      "658/658 [==============================] - 2s 3ms/step\n"
     ]
    }
   ],
   "source": [
    "test_xy['Pred'] = nn_model.predict(X_test, threshold=0.9)\n",
    "test_xy['Pred1'] = nn_model1.predict(X_test, threshold=0.9)"
   ]
  },
  {
   "cell_type": "code",
   "execution_count": 32,
   "metadata": {},
   "outputs": [
    {
     "data": {
      "text/html": [
       "<div>\n",
       "<style scoped>\n",
       "    .dataframe tbody tr th:only-of-type {\n",
       "        vertical-align: middle;\n",
       "    }\n",
       "\n",
       "    .dataframe tbody tr th {\n",
       "        vertical-align: top;\n",
       "    }\n",
       "\n",
       "    .dataframe thead th {\n",
       "        text-align: right;\n",
       "    }\n",
       "</style>\n",
       "<table border=\"1\" class=\"dataframe\">\n",
       "  <thead>\n",
       "    <tr style=\"text-align: right;\">\n",
       "      <th></th>\n",
       "      <th>Turbine_ID</th>\n",
       "      <th>Timestamp</th>\n",
       "    </tr>\n",
       "  </thead>\n",
       "  <tbody>\n",
       "    <tr>\n",
       "      <th>1029</th>\n",
       "      <td>T01</td>\n",
       "      <td>2017-08-02 08:00:00</td>\n",
       "    </tr>\n",
       "    <tr>\n",
       "      <th>1030</th>\n",
       "      <td>T01</td>\n",
       "      <td>2017-08-02 09:00:00</td>\n",
       "    </tr>\n",
       "    <tr>\n",
       "      <th>1031</th>\n",
       "      <td>T01</td>\n",
       "      <td>2017-08-02 10:00:00</td>\n",
       "    </tr>\n",
       "    <tr>\n",
       "      <th>1032</th>\n",
       "      <td>T01</td>\n",
       "      <td>2017-08-02 11:00:00</td>\n",
       "    </tr>\n",
       "    <tr>\n",
       "      <th>1033</th>\n",
       "      <td>T01</td>\n",
       "      <td>2017-08-02 12:00:00</td>\n",
       "    </tr>\n",
       "    <tr>\n",
       "      <th>1034</th>\n",
       "      <td>T01</td>\n",
       "      <td>2017-08-02 13:00:00</td>\n",
       "    </tr>\n",
       "    <tr>\n",
       "      <th>1035</th>\n",
       "      <td>T01</td>\n",
       "      <td>2017-08-02 14:00:00</td>\n",
       "    </tr>\n",
       "    <tr>\n",
       "      <th>3742</th>\n",
       "      <td>T01</td>\n",
       "      <td>2017-11-29 20:00:00</td>\n",
       "    </tr>\n",
       "    <tr>\n",
       "      <th>3743</th>\n",
       "      <td>T01</td>\n",
       "      <td>2017-11-29 21:00:00</td>\n",
       "    </tr>\n",
       "    <tr>\n",
       "      <th>3744</th>\n",
       "      <td>T01</td>\n",
       "      <td>2017-11-29 22:00:00</td>\n",
       "    </tr>\n",
       "    <tr>\n",
       "      <th>2310</th>\n",
       "      <td>T06</td>\n",
       "      <td>2017-09-24 06:00:00</td>\n",
       "    </tr>\n",
       "    <tr>\n",
       "      <th>1454</th>\n",
       "      <td>T07</td>\n",
       "      <td>2017-08-19 14:00:00</td>\n",
       "    </tr>\n",
       "    <tr>\n",
       "      <th>1455</th>\n",
       "      <td>T07</td>\n",
       "      <td>2017-08-19 15:00:00</td>\n",
       "    </tr>\n",
       "    <tr>\n",
       "      <th>1456</th>\n",
       "      <td>T07</td>\n",
       "      <td>2017-08-19 16:00:00</td>\n",
       "    </tr>\n",
       "    <tr>\n",
       "      <th>1457</th>\n",
       "      <td>T07</td>\n",
       "      <td>2017-08-19 17:00:00</td>\n",
       "    </tr>\n",
       "    <tr>\n",
       "      <th>853</th>\n",
       "      <td>T09</td>\n",
       "      <td>2017-09-08 13:00:00</td>\n",
       "    </tr>\n",
       "    <tr>\n",
       "      <th>2273</th>\n",
       "      <td>T09</td>\n",
       "      <td>2017-11-06 22:00:00</td>\n",
       "    </tr>\n",
       "    <tr>\n",
       "      <th>2274</th>\n",
       "      <td>T09</td>\n",
       "      <td>2017-11-06 23:00:00</td>\n",
       "    </tr>\n",
       "    <tr>\n",
       "      <th>1063</th>\n",
       "      <td>T11</td>\n",
       "      <td>2017-09-17 07:00:00</td>\n",
       "    </tr>\n",
       "    <tr>\n",
       "      <th>1064</th>\n",
       "      <td>T11</td>\n",
       "      <td>2017-09-17 08:00:00</td>\n",
       "    </tr>\n",
       "    <tr>\n",
       "      <th>1065</th>\n",
       "      <td>T11</td>\n",
       "      <td>2017-09-17 09:00:00</td>\n",
       "    </tr>\n",
       "  </tbody>\n",
       "</table>\n",
       "</div>"
      ],
      "text/plain": [
       "     Turbine_ID           Timestamp\n",
       "1029        T01 2017-08-02 08:00:00\n",
       "1030        T01 2017-08-02 09:00:00\n",
       "1031        T01 2017-08-02 10:00:00\n",
       "1032        T01 2017-08-02 11:00:00\n",
       "1033        T01 2017-08-02 12:00:00\n",
       "1034        T01 2017-08-02 13:00:00\n",
       "1035        T01 2017-08-02 14:00:00\n",
       "3742        T01 2017-11-29 20:00:00\n",
       "3743        T01 2017-11-29 21:00:00\n",
       "3744        T01 2017-11-29 22:00:00\n",
       "2310        T06 2017-09-24 06:00:00\n",
       "1454        T07 2017-08-19 14:00:00\n",
       "1455        T07 2017-08-19 15:00:00\n",
       "1456        T07 2017-08-19 16:00:00\n",
       "1457        T07 2017-08-19 17:00:00\n",
       "853         T09 2017-09-08 13:00:00\n",
       "2273        T09 2017-11-06 22:00:00\n",
       "2274        T09 2017-11-06 23:00:00\n",
       "1063        T11 2017-09-17 07:00:00\n",
       "1064        T11 2017-09-17 08:00:00\n",
       "1065        T11 2017-09-17 09:00:00"
      ]
     },
     "execution_count": 32,
     "metadata": {},
     "output_type": "execute_result"
    }
   ],
   "source": [
    "test_xy[(test_xy['Pred'] == 1) & (test_xy['Pred1'] == 1)][['Turbine_ID','Timestamp']]"
   ]
  },
  {
   "attachments": {},
   "cell_type": "markdown",
   "metadata": {},
   "source": [
    "A lot of consecutive warnings within the same day of the same turbine. We randomly select one of the consecutive warnings as our final warning. The results shouldn't vary much if a random different warning is selected within the same day."
   ]
  },
  {
   "cell_type": "code",
   "execution_count": 42,
   "metadata": {},
   "outputs": [
    {
     "data": {
      "text/html": [
       "<div>\n",
       "<style scoped>\n",
       "    .dataframe tbody tr th:only-of-type {\n",
       "        vertical-align: middle;\n",
       "    }\n",
       "\n",
       "    .dataframe tbody tr th {\n",
       "        vertical-align: top;\n",
       "    }\n",
       "\n",
       "    .dataframe thead th {\n",
       "        text-align: right;\n",
       "    }\n",
       "</style>\n",
       "<table border=\"1\" class=\"dataframe\">\n",
       "  <thead>\n",
       "    <tr style=\"text-align: right;\">\n",
       "      <th></th>\n",
       "      <th>Turbine_ID</th>\n",
       "      <th>Timestamp</th>\n",
       "    </tr>\n",
       "  </thead>\n",
       "  <tbody>\n",
       "    <tr>\n",
       "      <th>0</th>\n",
       "      <td>T01</td>\n",
       "      <td>2017-08-02 11:00:00</td>\n",
       "    </tr>\n",
       "    <tr>\n",
       "      <th>1</th>\n",
       "      <td>T01</td>\n",
       "      <td>2017-11-29 20:00:00</td>\n",
       "    </tr>\n",
       "    <tr>\n",
       "      <th>2</th>\n",
       "      <td>T06</td>\n",
       "      <td>2017-09-24 06:00:00</td>\n",
       "    </tr>\n",
       "    <tr>\n",
       "      <th>3</th>\n",
       "      <td>T07</td>\n",
       "      <td>2017-08-19 15:00:00</td>\n",
       "    </tr>\n",
       "    <tr>\n",
       "      <th>4</th>\n",
       "      <td>T09</td>\n",
       "      <td>2017-09-08 13:00:00</td>\n",
       "    </tr>\n",
       "    <tr>\n",
       "      <th>5</th>\n",
       "      <td>T09</td>\n",
       "      <td>2017-11-06 23:00:00</td>\n",
       "    </tr>\n",
       "    <tr>\n",
       "      <th>6</th>\n",
       "      <td>T11</td>\n",
       "      <td>2017-09-17 09:00:00</td>\n",
       "    </tr>\n",
       "  </tbody>\n",
       "</table>\n",
       "</div>"
      ],
      "text/plain": [
       "  Turbine_ID           Timestamp\n",
       "0        T01 2017-08-02 11:00:00\n",
       "1        T01 2017-11-29 20:00:00\n",
       "2        T06 2017-09-24 06:00:00\n",
       "3        T07 2017-08-19 15:00:00\n",
       "4        T09 2017-09-08 13:00:00\n",
       "5        T09 2017-11-06 23:00:00\n",
       "6        T11 2017-09-17 09:00:00"
      ]
     },
     "execution_count": 42,
     "metadata": {},
     "output_type": "execute_result"
    }
   ],
   "source": [
    "res = test_xy[(test_xy['Pred'] == 1) & (test_xy['Pred1'] == 1)][['Turbine_ID','Timestamp']].reset_index(drop=True)\n",
    "res['Date'] = res['Timestamp'].dt.date\n",
    "res = res.groupby(['Turbine_ID','Date']).apply(lambda x: x.sample(1)).reset_index(drop=True).drop(columns=['Date'])\n",
    "res\n",
    "# res.to_csv(f\"./saved_results/res_{subsystem}.csv\", index=False)"
   ]
  },
  {
   "attachments": {},
   "cell_type": "markdown",
   "metadata": {},
   "source": [
    "### Combine"
   ]
  },
  {
   "cell_type": "code",
   "execution_count": 58,
   "metadata": {},
   "outputs": [],
   "source": [
    "res1 = pd.read_csv(\"./saved_results/res_GEARBOX.csv\")\n",
    "res1['Component'] = 'GEARBOX'\n",
    "res1['Timestamp'] = pd.to_datetime(res1['Timestamp'])\n",
    "\n",
    "res2 = pd.read_csv(\"./saved_results/res_HYDRAULIC_GROUP.csv\")\n",
    "res2['Component'] = 'HYDRAULIC_GROUP'\n",
    "res2['Timestamp'] = pd.to_datetime(res2['Timestamp'])"
   ]
  },
  {
   "cell_type": "code",
   "execution_count": 61,
   "metadata": {},
   "outputs": [
    {
     "data": {
      "text/html": [
       "<div>\n",
       "<style scoped>\n",
       "    .dataframe tbody tr th:only-of-type {\n",
       "        vertical-align: middle;\n",
       "    }\n",
       "\n",
       "    .dataframe tbody tr th {\n",
       "        vertical-align: top;\n",
       "    }\n",
       "\n",
       "    .dataframe thead th {\n",
       "        text-align: right;\n",
       "    }\n",
       "</style>\n",
       "<table border=\"1\" class=\"dataframe\">\n",
       "  <thead>\n",
       "    <tr style=\"text-align: right;\">\n",
       "      <th></th>\n",
       "      <th>Turbine_ID</th>\n",
       "      <th>Component</th>\n",
       "      <th>Timestamp</th>\n",
       "      <th>Remarks</th>\n",
       "    </tr>\n",
       "  </thead>\n",
       "  <tbody>\n",
       "    <tr>\n",
       "      <th>0</th>\n",
       "      <td>T01</td>\n",
       "      <td>GEARBOX</td>\n",
       "      <td>2017-08-02 11:00:00</td>\n",
       "      <td>None</td>\n",
       "    </tr>\n",
       "    <tr>\n",
       "      <th>1</th>\n",
       "      <td>T01</td>\n",
       "      <td>GEARBOX</td>\n",
       "      <td>2017-11-29 20:00:00</td>\n",
       "      <td>None</td>\n",
       "    </tr>\n",
       "    <tr>\n",
       "      <th>2</th>\n",
       "      <td>T06</td>\n",
       "      <td>GEARBOX</td>\n",
       "      <td>2017-09-24 06:00:00</td>\n",
       "      <td>None</td>\n",
       "    </tr>\n",
       "    <tr>\n",
       "      <th>3</th>\n",
       "      <td>T07</td>\n",
       "      <td>GEARBOX</td>\n",
       "      <td>2017-08-19 15:00:00</td>\n",
       "      <td>None</td>\n",
       "    </tr>\n",
       "    <tr>\n",
       "      <th>4</th>\n",
       "      <td>T09</td>\n",
       "      <td>GEARBOX</td>\n",
       "      <td>2017-09-08 13:00:00</td>\n",
       "      <td>None</td>\n",
       "    </tr>\n",
       "    <tr>\n",
       "      <th>5</th>\n",
       "      <td>T09</td>\n",
       "      <td>GEARBOX</td>\n",
       "      <td>2017-11-06 23:00:00</td>\n",
       "      <td>None</td>\n",
       "    </tr>\n",
       "    <tr>\n",
       "      <th>6</th>\n",
       "      <td>T11</td>\n",
       "      <td>GEARBOX</td>\n",
       "      <td>2017-09-17 09:00:00</td>\n",
       "      <td>None</td>\n",
       "    </tr>\n",
       "    <tr>\n",
       "      <th>0</th>\n",
       "      <td>T01</td>\n",
       "      <td>HYDRAULIC_GROUP</td>\n",
       "      <td>2017-08-27 10:00:00</td>\n",
       "      <td>None</td>\n",
       "    </tr>\n",
       "    <tr>\n",
       "      <th>1</th>\n",
       "      <td>T06</td>\n",
       "      <td>HYDRAULIC_GROUP</td>\n",
       "      <td>2017-08-30 01:00:00</td>\n",
       "      <td>None</td>\n",
       "    </tr>\n",
       "    <tr>\n",
       "      <th>2</th>\n",
       "      <td>T11</td>\n",
       "      <td>HYDRAULIC_GROUP</td>\n",
       "      <td>2017-09-01 07:00:00</td>\n",
       "      <td>None</td>\n",
       "    </tr>\n",
       "    <tr>\n",
       "      <th>3</th>\n",
       "      <td>T11</td>\n",
       "      <td>HYDRAULIC_GROUP</td>\n",
       "      <td>2017-09-17 09:00:00</td>\n",
       "      <td>None</td>\n",
       "    </tr>\n",
       "  </tbody>\n",
       "</table>\n",
       "</div>"
      ],
      "text/plain": [
       "  Turbine_ID        Component           Timestamp Remarks\n",
       "0        T01          GEARBOX 2017-08-02 11:00:00    None\n",
       "1        T01          GEARBOX 2017-11-29 20:00:00    None\n",
       "2        T06          GEARBOX 2017-09-24 06:00:00    None\n",
       "3        T07          GEARBOX 2017-08-19 15:00:00    None\n",
       "4        T09          GEARBOX 2017-09-08 13:00:00    None\n",
       "5        T09          GEARBOX 2017-11-06 23:00:00    None\n",
       "6        T11          GEARBOX 2017-09-17 09:00:00    None\n",
       "0        T01  HYDRAULIC_GROUP 2017-08-27 10:00:00    None\n",
       "1        T06  HYDRAULIC_GROUP 2017-08-30 01:00:00    None\n",
       "2        T11  HYDRAULIC_GROUP 2017-09-01 07:00:00    None\n",
       "3        T11  HYDRAULIC_GROUP 2017-09-17 09:00:00    None"
      ]
     },
     "execution_count": 61,
     "metadata": {},
     "output_type": "execute_result"
    }
   ],
   "source": [
    "res_final = pd.concat([res1, res2])\n",
    "res_final['Remarks'] = None\n",
    "res_final = res_final[['Turbine_ID','Component','Timestamp','Remarks']]\n",
    "res_final"
   ]
  },
  {
   "cell_type": "code",
   "execution_count": 62,
   "metadata": {},
   "outputs": [],
   "source": [
    "# res_final.to_csv(\"./saved_results/results.csv\", index=False)"
   ]
  },
  {
   "cell_type": "code",
   "execution_count": null,
   "metadata": {},
   "outputs": [],
   "source": []
  },
  {
   "cell_type": "code",
   "execution_count": null,
   "metadata": {},
   "outputs": [],
   "source": []
  }
 ],
 "metadata": {
  "kernelspec": {
   "display_name": "python38",
   "language": "python",
   "name": "python3"
  },
  "language_info": {
   "codemirror_mode": {
    "name": "ipython",
    "version": 3
   },
   "file_extension": ".py",
   "mimetype": "text/x-python",
   "name": "python",
   "nbconvert_exporter": "python",
   "pygments_lexer": "ipython3",
   "version": "3.8.19"
  },
  "orig_nbformat": 4,
  "vscode": {
   "interpreter": {
    "hash": "768b1b237b8bc691fec107ce0af9601ebb9e4c833c752d3a17df7c4e7e56f684"
   }
  }
 },
 "nbformat": 4,
 "nbformat_minor": 2
}
