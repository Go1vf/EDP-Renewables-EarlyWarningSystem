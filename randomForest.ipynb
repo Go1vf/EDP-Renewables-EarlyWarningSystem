{
 "cells": [
  {
   "cell_type": "markdown",
   "source": [
    "# Random Forest && XG Boost"
   ],
   "metadata": {
    "collapsed": false
   },
   "id": "a6f62f8bcd140876"
  },
  {
   "cell_type": "code",
   "execution_count": 192,
   "id": "initial_id",
   "metadata": {
    "collapsed": true,
    "ExecuteTime": {
     "end_time": "2024-04-06T20:41:48.450099Z",
     "start_time": "2024-04-06T20:41:48.447479Z"
    }
   },
   "outputs": [],
   "source": [
    "import pandas as pd\n",
    "import numpy as np\n",
    "import warnings\n",
    "warnings.filterwarnings(action=\"ignore\")\n",
    "path = './data/'\n",
    "gearbox = 'GEARBOX_processed.csv'\n",
    "generator_bearing = 'GENERATOR_BEARING_processed.csv'\n",
    "generator = 'GENERATOR_processed.csv'\n",
    "hydraulic_group = 'HYDRAULIC_GROUP_processed.csv'\n",
    "transformer = 'TRANSFORMER_processed.csv'\n",
    "all_signals = 'all_signals_processed.csv'"
   ]
  },
  {
   "cell_type": "code",
   "outputs": [],
   "source": [
    "failures = pd.read_csv(path + \"htw-failures-training.csv\")\n",
    "failures['Timestamp'] = pd.to_datetime(failures['Timestamp'])\n",
    "failures['Timestamp'] = failures['Timestamp'].dt.round('10T')\n",
    "failures['Label'] = 1"
   ],
   "metadata": {
    "collapsed": false,
    "ExecuteTime": {
     "end_time": "2024-04-06T20:41:50.173Z",
     "start_time": "2024-04-06T20:41:50.165728Z"
    }
   },
   "id": "d8d509f013b8031",
   "execution_count": 193
  },
  {
   "cell_type": "code",
   "outputs": [
    {
     "name": "stdout",
     "output_type": "stream",
     "text": [
      "There are matching rows based on 'Turbine_ID' and 'Timestamp'\n",
      "20\n"
     ]
    }
   ],
   "source": [
    "all_signals = pd.read_csv(path + all_signals)\n",
    "all_signals['Timestamp'] = pd.to_datetime(all_signals['Timestamp'])\n",
    "# features.columns\n",
    "\n",
    "matched_rows = pd.merge(failures, all_signals, on=['Turbine_ID', 'Timestamp'])\n",
    "\n",
    "# If you want to check the result\n",
    "if not matched_rows.empty:\n",
    "    print(\"There are matching rows based on 'Turbine_ID' and 'Timestamp'\")\n",
    "    print(len(matched_rows))\n",
    "else:\n",
    "    print(\"No matching rows found based on 'Turbine_ID' and 'Timestamp'\")\n",
    "# 3 missing failures are still not in the processed data"
   ],
   "metadata": {
    "collapsed": false,
    "ExecuteTime": {
     "end_time": "2024-04-06T20:41:53.601036Z",
     "start_time": "2024-04-06T20:41:52.138341Z"
    }
   },
   "id": "c8f1f0d53dc184d2",
   "execution_count": 194
  },
  {
   "cell_type": "code",
   "outputs": [
    {
     "data": {
      "text/plain": "       Turbine_ID                 Timestamp  Gen_RPM_Max  Gen_RPM_Min  \\\n0             T01 2016-01-01 00:00:00+00:00     0.183783     0.517399   \n1             T01 2016-01-01 00:10:00+00:00     0.169904    -1.304604   \n2             T01 2016-01-01 00:20:00+00:00     0.362223    -1.100337   \n3             T01 2016-01-01 00:30:00+00:00     0.228317     0.495364   \n4             T01 2016-01-01 00:40:00+00:00     0.250126     0.514182   \n...           ...                       ...          ...          ...   \n434110        T11 2017-08-31 23:20:00+00:00     0.308787     0.457460   \n434111        T11 2017-08-31 23:30:00+00:00     0.025024     0.449680   \n434112        T11 2017-08-31 23:40:00+00:00     0.024017     0.443629   \n434113        T11 2017-08-31 23:50:00+00:00     0.052209     0.438097   \n434114        T11 2017-09-01 00:00:00+00:00     0.026870     0.442246   \n\n        Gen_RPM_Avg  Gen_RPM_Std  Gen_Phase1_Temp_Avg  Gen_Phase2_Temp_Avg  \\\n0          0.343201    -0.530101            -0.270840            -0.213316   \n1         -0.053454     3.336224            -0.270840            -0.213316   \n2         -0.412559     3.790873            -0.302901            -0.282257   \n3          0.356088    -0.457647            -0.334963            -0.282257   \n4          0.357043    -0.448590            -0.302901            -0.247786   \n...             ...          ...                  ...                  ...   \n434110     0.284569    -0.227676            -0.305246            -0.286253   \n434111     0.221720    -0.616017            -0.262225            -0.242795   \n434112     0.219989    -0.610560            -0.219203            -0.199337   \n434113     0.222932    -0.596009            -0.176182            -0.155880   \n434114     0.223106    -0.606923            -0.133160            -0.112422   \n\n        Gen_Phase3_Temp_Avg  Gen_SlipRing_Temp_Avg  ...  \\\n0                 -0.226285              -0.518503  ...   \n1                 -0.191148              -0.518503  ...   \n2                 -0.261422              -0.518503  ...   \n3                 -0.261422              -0.518503  ...   \n4                 -0.261422              -0.518503  ...   \n...                     ...                    ...  ...   \n434110            -0.318863               0.317192  ...   \n434111            -0.231583               0.317192  ...   \n434112            -0.187943               0.317192  ...   \n434113            -0.144302               0.317192  ...   \n434114            -0.100662               0.317192  ...   \n\n        Lead_Time_GENERATOR_BEARING  Default_in_60_GENERATOR_BEARING  \\\n0                             89950                            False   \n1                             89949                            False   \n2                             89949                            False   \n3                             89949                            False   \n4                             89949                            False   \n...                             ...                              ...   \n434110                        89341                            False   \n434111                        89341                            False   \n434112                        89341                            False   \n434113                        89341                            False   \n434114                        89341                            False   \n\n        Label_TRANSFORMER  Next_Default_Date_TRANSFORMER  \\\n0                     0.0      2017-08-11 13:10:00+00:00   \n1                     0.0      2017-08-11 13:10:00+00:00   \n2                     0.0      2017-08-11 13:10:00+00:00   \n3                     0.0      2017-08-11 13:10:00+00:00   \n4                     0.0      2017-08-11 13:10:00+00:00   \n...                   ...                            ...   \n434110                0.0      2262-04-11 00:00:00+00:00   \n434111                0.0      2262-04-11 00:00:00+00:00   \n434112                0.0      2262-04-11 00:00:00+00:00   \n434113                0.0      2262-04-11 00:00:00+00:00   \n434114                0.0      2262-04-11 00:00:00+00:00   \n\n        Lead_Time_TRANSFORMER  Default_in_60_TRANSFORMER  Label_GEARBOX  \\\n0                         588                      False            0.0   \n1                         588                      False            0.0   \n2                         588                      False            0.0   \n3                         588                      False            0.0   \n4                         588                      False            0.0   \n...                       ...                        ...            ...   \n434110                  89341                      False            0.0   \n434111                  89341                      False            0.0   \n434112                  89341                      False            0.0   \n434113                  89341                      False            0.0   \n434114                  89341                      False            0.0   \n\n        Next_Default_Date_GEARBOX  Lead_Time_GEARBOX  Default_in_60_GEARBOX  \n0       2016-07-18 02:10:00+00:00                199                  False  \n1       2016-07-18 02:10:00+00:00                199                  False  \n2       2016-07-18 02:10:00+00:00                199                  False  \n3       2016-07-18 02:10:00+00:00                199                  False  \n4       2016-07-18 02:10:00+00:00                199                  False  \n...                           ...                ...                    ...  \n434110  2262-04-11 00:00:00+00:00              89341                  False  \n434111  2262-04-11 00:00:00+00:00              89341                  False  \n434112  2262-04-11 00:00:00+00:00              89341                  False  \n434113  2262-04-11 00:00:00+00:00              89341                  False  \n434114  2262-04-11 00:00:00+00:00              89341                  False  \n\n[434115 rows x 78 columns]",
      "text/html": "<div>\n<style scoped>\n    .dataframe tbody tr th:only-of-type {\n        vertical-align: middle;\n    }\n\n    .dataframe tbody tr th {\n        vertical-align: top;\n    }\n\n    .dataframe thead th {\n        text-align: right;\n    }\n</style>\n<table border=\"1\" class=\"dataframe\">\n  <thead>\n    <tr style=\"text-align: right;\">\n      <th></th>\n      <th>Turbine_ID</th>\n      <th>Timestamp</th>\n      <th>Gen_RPM_Max</th>\n      <th>Gen_RPM_Min</th>\n      <th>Gen_RPM_Avg</th>\n      <th>Gen_RPM_Std</th>\n      <th>Gen_Phase1_Temp_Avg</th>\n      <th>Gen_Phase2_Temp_Avg</th>\n      <th>Gen_Phase3_Temp_Avg</th>\n      <th>Gen_SlipRing_Temp_Avg</th>\n      <th>...</th>\n      <th>Lead_Time_GENERATOR_BEARING</th>\n      <th>Default_in_60_GENERATOR_BEARING</th>\n      <th>Label_TRANSFORMER</th>\n      <th>Next_Default_Date_TRANSFORMER</th>\n      <th>Lead_Time_TRANSFORMER</th>\n      <th>Default_in_60_TRANSFORMER</th>\n      <th>Label_GEARBOX</th>\n      <th>Next_Default_Date_GEARBOX</th>\n      <th>Lead_Time_GEARBOX</th>\n      <th>Default_in_60_GEARBOX</th>\n    </tr>\n  </thead>\n  <tbody>\n    <tr>\n      <th>0</th>\n      <td>T01</td>\n      <td>2016-01-01 00:00:00+00:00</td>\n      <td>0.183783</td>\n      <td>0.517399</td>\n      <td>0.343201</td>\n      <td>-0.530101</td>\n      <td>-0.270840</td>\n      <td>-0.213316</td>\n      <td>-0.226285</td>\n      <td>-0.518503</td>\n      <td>...</td>\n      <td>89950</td>\n      <td>False</td>\n      <td>0.0</td>\n      <td>2017-08-11 13:10:00+00:00</td>\n      <td>588</td>\n      <td>False</td>\n      <td>0.0</td>\n      <td>2016-07-18 02:10:00+00:00</td>\n      <td>199</td>\n      <td>False</td>\n    </tr>\n    <tr>\n      <th>1</th>\n      <td>T01</td>\n      <td>2016-01-01 00:10:00+00:00</td>\n      <td>0.169904</td>\n      <td>-1.304604</td>\n      <td>-0.053454</td>\n      <td>3.336224</td>\n      <td>-0.270840</td>\n      <td>-0.213316</td>\n      <td>-0.191148</td>\n      <td>-0.518503</td>\n      <td>...</td>\n      <td>89949</td>\n      <td>False</td>\n      <td>0.0</td>\n      <td>2017-08-11 13:10:00+00:00</td>\n      <td>588</td>\n      <td>False</td>\n      <td>0.0</td>\n      <td>2016-07-18 02:10:00+00:00</td>\n      <td>199</td>\n      <td>False</td>\n    </tr>\n    <tr>\n      <th>2</th>\n      <td>T01</td>\n      <td>2016-01-01 00:20:00+00:00</td>\n      <td>0.362223</td>\n      <td>-1.100337</td>\n      <td>-0.412559</td>\n      <td>3.790873</td>\n      <td>-0.302901</td>\n      <td>-0.282257</td>\n      <td>-0.261422</td>\n      <td>-0.518503</td>\n      <td>...</td>\n      <td>89949</td>\n      <td>False</td>\n      <td>0.0</td>\n      <td>2017-08-11 13:10:00+00:00</td>\n      <td>588</td>\n      <td>False</td>\n      <td>0.0</td>\n      <td>2016-07-18 02:10:00+00:00</td>\n      <td>199</td>\n      <td>False</td>\n    </tr>\n    <tr>\n      <th>3</th>\n      <td>T01</td>\n      <td>2016-01-01 00:30:00+00:00</td>\n      <td>0.228317</td>\n      <td>0.495364</td>\n      <td>0.356088</td>\n      <td>-0.457647</td>\n      <td>-0.334963</td>\n      <td>-0.282257</td>\n      <td>-0.261422</td>\n      <td>-0.518503</td>\n      <td>...</td>\n      <td>89949</td>\n      <td>False</td>\n      <td>0.0</td>\n      <td>2017-08-11 13:10:00+00:00</td>\n      <td>588</td>\n      <td>False</td>\n      <td>0.0</td>\n      <td>2016-07-18 02:10:00+00:00</td>\n      <td>199</td>\n      <td>False</td>\n    </tr>\n    <tr>\n      <th>4</th>\n      <td>T01</td>\n      <td>2016-01-01 00:40:00+00:00</td>\n      <td>0.250126</td>\n      <td>0.514182</td>\n      <td>0.357043</td>\n      <td>-0.448590</td>\n      <td>-0.302901</td>\n      <td>-0.247786</td>\n      <td>-0.261422</td>\n      <td>-0.518503</td>\n      <td>...</td>\n      <td>89949</td>\n      <td>False</td>\n      <td>0.0</td>\n      <td>2017-08-11 13:10:00+00:00</td>\n      <td>588</td>\n      <td>False</td>\n      <td>0.0</td>\n      <td>2016-07-18 02:10:00+00:00</td>\n      <td>199</td>\n      <td>False</td>\n    </tr>\n    <tr>\n      <th>...</th>\n      <td>...</td>\n      <td>...</td>\n      <td>...</td>\n      <td>...</td>\n      <td>...</td>\n      <td>...</td>\n      <td>...</td>\n      <td>...</td>\n      <td>...</td>\n      <td>...</td>\n      <td>...</td>\n      <td>...</td>\n      <td>...</td>\n      <td>...</td>\n      <td>...</td>\n      <td>...</td>\n      <td>...</td>\n      <td>...</td>\n      <td>...</td>\n      <td>...</td>\n      <td>...</td>\n    </tr>\n    <tr>\n      <th>434110</th>\n      <td>T11</td>\n      <td>2017-08-31 23:20:00+00:00</td>\n      <td>0.308787</td>\n      <td>0.457460</td>\n      <td>0.284569</td>\n      <td>-0.227676</td>\n      <td>-0.305246</td>\n      <td>-0.286253</td>\n      <td>-0.318863</td>\n      <td>0.317192</td>\n      <td>...</td>\n      <td>89341</td>\n      <td>False</td>\n      <td>0.0</td>\n      <td>2262-04-11 00:00:00+00:00</td>\n      <td>89341</td>\n      <td>False</td>\n      <td>0.0</td>\n      <td>2262-04-11 00:00:00+00:00</td>\n      <td>89341</td>\n      <td>False</td>\n    </tr>\n    <tr>\n      <th>434111</th>\n      <td>T11</td>\n      <td>2017-08-31 23:30:00+00:00</td>\n      <td>0.025024</td>\n      <td>0.449680</td>\n      <td>0.221720</td>\n      <td>-0.616017</td>\n      <td>-0.262225</td>\n      <td>-0.242795</td>\n      <td>-0.231583</td>\n      <td>0.317192</td>\n      <td>...</td>\n      <td>89341</td>\n      <td>False</td>\n      <td>0.0</td>\n      <td>2262-04-11 00:00:00+00:00</td>\n      <td>89341</td>\n      <td>False</td>\n      <td>0.0</td>\n      <td>2262-04-11 00:00:00+00:00</td>\n      <td>89341</td>\n      <td>False</td>\n    </tr>\n    <tr>\n      <th>434112</th>\n      <td>T11</td>\n      <td>2017-08-31 23:40:00+00:00</td>\n      <td>0.024017</td>\n      <td>0.443629</td>\n      <td>0.219989</td>\n      <td>-0.610560</td>\n      <td>-0.219203</td>\n      <td>-0.199337</td>\n      <td>-0.187943</td>\n      <td>0.317192</td>\n      <td>...</td>\n      <td>89341</td>\n      <td>False</td>\n      <td>0.0</td>\n      <td>2262-04-11 00:00:00+00:00</td>\n      <td>89341</td>\n      <td>False</td>\n      <td>0.0</td>\n      <td>2262-04-11 00:00:00+00:00</td>\n      <td>89341</td>\n      <td>False</td>\n    </tr>\n    <tr>\n      <th>434113</th>\n      <td>T11</td>\n      <td>2017-08-31 23:50:00+00:00</td>\n      <td>0.052209</td>\n      <td>0.438097</td>\n      <td>0.222932</td>\n      <td>-0.596009</td>\n      <td>-0.176182</td>\n      <td>-0.155880</td>\n      <td>-0.144302</td>\n      <td>0.317192</td>\n      <td>...</td>\n      <td>89341</td>\n      <td>False</td>\n      <td>0.0</td>\n      <td>2262-04-11 00:00:00+00:00</td>\n      <td>89341</td>\n      <td>False</td>\n      <td>0.0</td>\n      <td>2262-04-11 00:00:00+00:00</td>\n      <td>89341</td>\n      <td>False</td>\n    </tr>\n    <tr>\n      <th>434114</th>\n      <td>T11</td>\n      <td>2017-09-01 00:00:00+00:00</td>\n      <td>0.026870</td>\n      <td>0.442246</td>\n      <td>0.223106</td>\n      <td>-0.606923</td>\n      <td>-0.133160</td>\n      <td>-0.112422</td>\n      <td>-0.100662</td>\n      <td>0.317192</td>\n      <td>...</td>\n      <td>89341</td>\n      <td>False</td>\n      <td>0.0</td>\n      <td>2262-04-11 00:00:00+00:00</td>\n      <td>89341</td>\n      <td>False</td>\n      <td>0.0</td>\n      <td>2262-04-11 00:00:00+00:00</td>\n      <td>89341</td>\n      <td>False</td>\n    </tr>\n  </tbody>\n</table>\n<p>434115 rows × 78 columns</p>\n</div>"
     },
     "execution_count": 200,
     "metadata": {},
     "output_type": "execute_result"
    }
   ],
   "source": [
    "## Group by Turbine_ID and then normalize each features' data\n",
    "from sklearn.preprocessing import StandardScaler\n",
    "feature_columns = [col for col in all_signals if col not in ['Turbine_ID', \n",
    "                                                             'Timestamp', \n",
    "                                                             'Label_GENERATOR',\n",
    "                                                             'Next_Default_Date_GENERATOR', 'Lead_Time_GENERATOR',\n",
    "                                                             'Default_in_60_GENERATOR', 'Label_HYDRAULIC_GROUP',\n",
    "                                                             'Next_Default_Date_HYDRAULIC_GROUP', 'Lead_Time_HYDRAULIC_GROUP',\n",
    "                                                             'Default_in_60_HYDRAULIC_GROUP', 'Label_GENERATOR_BEARING',\n",
    "                                                             'Next_Default_Date_GENERATOR_BEARING', 'Lead_Time_GENERATOR_BEARING',\n",
    "                                                             'Default_in_60_GENERATOR_BEARING', 'Label_TRANSFORMER',\n",
    "                                                             'Next_Default_Date_TRANSFORMER', 'Lead_Time_TRANSFORMER',\n",
    "                                                             'Default_in_60_TRANSFORMER', 'Label_GEARBOX',\n",
    "                                                             'Next_Default_Date_GEARBOX', 'Lead_Time_GEARBOX',\n",
    "                                                             'Default_in_60_GEARBOX']]\n",
    "def normalize_features(group):\n",
    "    scaler = StandardScaler()\n",
    "    group[feature_columns] = scaler.fit_transform(group[feature_columns])\n",
    "    return group\n",
    "\n",
    "normalized_signal = all_signals.groupby('Turbine_ID').apply(normalize_features).reset_index(drop=True)\n",
    "normalized_signal\n"
   ],
   "metadata": {
    "collapsed": false,
    "ExecuteTime": {
     "end_time": "2024-04-06T21:32:22.282052Z",
     "start_time": "2024-04-06T21:32:21.716685Z"
    }
   },
   "id": "13980b7324e16db6",
   "execution_count": 200
  },
  {
   "cell_type": "markdown",
   "source": [
    "### Perform CUSUM (Abandoned)"
   ],
   "metadata": {
    "collapsed": false
   },
   "id": "8ef71b4754cb7ce5"
  },
  {
   "cell_type": "code",
   "outputs": [],
   "source": [
    "# def calculate_deviation(df):\n",
    "#     # Drop irrelevant column\n",
    "#     df_filtered = df.drop(columns=['Timestamp', 'Label', 'Next_Default_Date', 'Lead_Time', 'Default_in_60'])\n",
    "#     df_normal = df_filtered[df['Default_in_60'] == 0]\n",
    "#     grouped_means = df_normal.groupby('Turbine_ID').mean().reset_index()\n",
    "#     df_merged = pd.merge(df, grouped_means,\n",
    "#                                  on='Turbine_ID', suffixes=('', '_Mean'))\n",
    "#     # Calculate deviation for each feature\n",
    "#     feature_columns = [col for col in df_filtered.columns if col not in ['Turbine_ID', 'Default_in_60']]\n",
    "#     for col in feature_columns:\n",
    "#         mean_col = f'{col}_Mean'  # Construct the name of the mean column\n",
    "#         deviation_col = f'{col}_Dev' # Name for the new deviation column\n",
    "#         df_merged[deviation_col] = df_merged[col] - df_merged[mean_col]\n",
    "#     return df_merged"
   ],
   "metadata": {
    "collapsed": false,
    "ExecuteTime": {
     "end_time": "2024-04-06T20:00:34.171183Z",
     "start_time": "2024-04-06T20:00:34.168189Z"
    }
   },
   "id": "e3cc4be79d7edb9a",
   "execution_count": 168
  },
  {
   "cell_type": "code",
   "outputs": [],
   "source": [
    "# def cusum(series):\n",
    "#     cum_sum = [0] # Initialize with 0 or the series' first value as desired\n",
    "#     for i in range(1, len(series)):\n",
    "#         # For a basic CUSUM, we're just accumulating deviations\n",
    "#         cum_sum.append(cum_sum[-1] + series.iloc[i])\n",
    "#     return pd.Series(cum_sum, index=series.index)\n",
    "# def apply_cusum_to_group(group):\n",
    "#     deviation_columns = [col for col in group.columns if col not in ['Turbine_ID', 'Default_in_60']]\n",
    "#     for col in deviation_columns:\n",
    "#         group[col + '_CUSUM'] = cusum(group[col])\n",
    "#     return group"
   ],
   "metadata": {
    "collapsed": false,
    "ExecuteTime": {
     "end_time": "2024-04-06T20:00:34.174519Z",
     "start_time": "2024-04-06T20:00:34.171994Z"
    }
   },
   "id": "dd5ca73ea6b4c925",
   "execution_count": 169
  },
  {
   "cell_type": "code",
   "outputs": [],
   "source": [
    "# def combine_feature_label(df):\n",
    "#     df_deviation = calculate_deviation(df)\n",
    "#     columns_to_keep = ['Turbine_ID', 'Default_in_60']\n",
    "#     columns_dev = [col for col in df_deviation.columns if '_Dev' in col]\n",
    "#     columns_to_keep.extend(columns_dev)\n",
    "#     df_deviation = df_deviation[columns_to_keep]\n",
    "#     df_cusum = df_deviation.groupby('Turbine_ID', as_index=False).apply(apply_cusum_to_group)\n",
    "#     columns_features = [col for col in df_cusum.columns if '_CUSUM' in col]\n",
    "#     columns_to_keep2 =  ['Turbine_ID', 'Default_in_60']\n",
    "#     columns_to_keep2.extend(columns_features)\n",
    "#     df_cusum = df_cusum[columns_to_keep2]\n",
    "#     return df_cusum"
   ],
   "metadata": {
    "collapsed": false,
    "ExecuteTime": {
     "end_time": "2024-04-06T20:00:34.177957Z",
     "start_time": "2024-04-06T20:00:34.175239Z"
    }
   },
   "id": "ef0b1961f03b85f1",
   "execution_count": 170
  },
  {
   "cell_type": "code",
   "outputs": [],
   "source": [
    "# gearbox_df = pd.read_csv(path + gearbox)\n",
    "# gearbox_df['Timestamp'] = pd.to_datetime(gearbox_df['Timestamp'])\n",
    "# gearbox_cusum = combine_feature_label(gearbox_df)\n",
    "# gearbox_cusum.columns"
   ],
   "metadata": {
    "collapsed": false,
    "ExecuteTime": {
     "end_time": "2024-04-06T22:50:29.567056Z",
     "start_time": "2024-04-06T22:50:29.562663Z"
    }
   },
   "id": "287741281832bb0d",
   "execution_count": 211
  },
  {
   "cell_type": "markdown",
   "source": [
    "### Resampling"
   ],
   "metadata": {
    "collapsed": false
   },
   "id": "49fe7e131f7da7f0"
  },
  {
   "cell_type": "code",
   "outputs": [
    {
     "data": {
      "text/plain": "       Turbine_ID                 Timestamp  Gen_RPM_Max  Gen_RPM_Min  \\\n155127        T06 2017-05-02 00:20:00+00:00     0.166058     0.507718   \n155128        T06 2017-05-02 00:30:00+00:00     0.167598     0.523127   \n69854         T01 2017-05-02 00:30:00+00:00     0.169752    -1.051280   \n242371        T07 2017-05-02 00:30:00+00:00     0.166353     0.504013   \n329466        T09 2017-05-02 00:30:00+00:00     0.133798     0.531502   \n...           ...                       ...          ...          ...   \n259722        T07 2017-09-01 00:00:00+00:00     0.194822     0.502250   \n346872        T09 2017-09-01 00:00:00+00:00     0.150570     0.544656   \n172521        T06 2017-09-01 00:00:00+00:00     0.194232     0.513496   \n87139         T01 2017-09-01 00:00:00+00:00     0.216726     0.510966   \n434114        T11 2017-09-01 00:00:00+00:00     0.026870     0.442246   \n\n        Gen_RPM_Avg  Gen_RPM_Std  Gen_Phase1_Temp_Avg  Gen_Phase2_Temp_Avg  \\\n155127     0.342649    -0.540645            -0.762760            -0.752021   \n155128     0.343931    -0.549653            -0.610862            -0.604845   \n69854     -0.108823     3.230260            -0.783824            -0.799318   \n242371     0.335841    -0.529115            -0.825384            -0.860886   \n329466     0.331753    -0.602091            -0.538037            -0.549877   \n...             ...          ...                  ...                  ...   \n259722     0.333273    -0.502602            -0.032193             0.012545   \n346872     0.336676    -0.575309            -0.112670            -0.088962   \n172521     0.346333    -0.511821             0.110654             0.094241   \n87139      0.353224    -0.499308            -0.078471            -0.040962   \n434114     0.223106    -0.606923            -0.133160            -0.112422   \n\n        Gen_Phase3_Temp_Avg  Gen_SlipRing_Temp_Avg  ...  \\\n155127            -0.714676              -0.543135  ...   \n155128            -0.599802              -0.543135  ...   \n69854             -0.823619              -0.634519  ...   \n242371            -0.857731              -0.638504  ...   \n329466            -0.571722              -0.529612  ...   \n...                     ...                    ...  ...   \n259722             0.017976               0.408223  ...   \n346872            -0.090070               0.386262  ...   \n172521             0.166022               0.390374  ...   \n87139             -0.015461               0.525644  ...   \n434114            -0.100662               0.317192  ...   \n\n        Lead_Time_GENERATOR_BEARING  Default_in_60_GENERATOR_BEARING  \\\n155127                        89462                            False   \n155128                        89462                            False   \n69854                         89462                            False   \n242371                          110                            False   \n329466                        89462                            False   \n...                             ...                              ...   \n259722                        89341                            False   \n346872                        89341                            False   \n172521                        89341                            False   \n87139                         89341                            False   \n434114                        89341                            False   \n\n        Label_TRANSFORMER  Next_Default_Date_TRANSFORMER  \\\n155127                0.0      2262-04-11 00:00:00+00:00   \n155128                0.0      2262-04-11 00:00:00+00:00   \n69854                 0.0      2017-08-11 13:10:00+00:00   \n242371                0.0      2262-04-11 00:00:00+00:00   \n329466                0.0      2262-04-11 00:00:00+00:00   \n...                   ...                            ...   \n259722                0.0      2262-04-11 00:00:00+00:00   \n346872                0.0      2262-04-11 00:00:00+00:00   \n172521                0.0      2262-04-11 00:00:00+00:00   \n87139                 0.0      2262-04-11 00:00:00+00:00   \n434114                0.0      2262-04-11 00:00:00+00:00   \n\n        Lead_Time_TRANSFORMER  Default_in_60_TRANSFORMER  Label_GEARBOX  \\\n155127                  89462                      False            0.0   \n155128                  89462                      False            0.0   \n69854                     101                      False            0.0   \n242371                  89462                      False            0.0   \n329466                  89462                      False            0.0   \n...                       ...                        ...            ...   \n259722                  89341                      False            0.0   \n346872                  89341                      False            0.0   \n172521                  89341                      False            0.0   \n87139                   89341                      False            0.0   \n434114                  89341                      False            0.0   \n\n        Next_Default_Date_GEARBOX  Lead_Time_GEARBOX  Default_in_60_GEARBOX  \n155127  2262-04-11 00:00:00+00:00              89462                  False  \n155128  2262-04-11 00:00:00+00:00              89462                  False  \n69854   2262-04-11 00:00:00+00:00              89462                  False  \n242371  2262-04-11 00:00:00+00:00              89462                  False  \n329466  2262-04-11 00:00:00+00:00              89462                  False  \n...                           ...                ...                    ...  \n259722  2262-04-11 00:00:00+00:00              89341                  False  \n346872  2262-04-11 00:00:00+00:00              89341                  False  \n172521  2262-04-11 00:00:00+00:00              89341                  False  \n87139   2262-04-11 00:00:00+00:00              89341                  False  \n434114  2262-04-11 00:00:00+00:00              89341                  False  \n\n[86823 rows x 78 columns]",
      "text/html": "<div>\n<style scoped>\n    .dataframe tbody tr th:only-of-type {\n        vertical-align: middle;\n    }\n\n    .dataframe tbody tr th {\n        vertical-align: top;\n    }\n\n    .dataframe thead th {\n        text-align: right;\n    }\n</style>\n<table border=\"1\" class=\"dataframe\">\n  <thead>\n    <tr style=\"text-align: right;\">\n      <th></th>\n      <th>Turbine_ID</th>\n      <th>Timestamp</th>\n      <th>Gen_RPM_Max</th>\n      <th>Gen_RPM_Min</th>\n      <th>Gen_RPM_Avg</th>\n      <th>Gen_RPM_Std</th>\n      <th>Gen_Phase1_Temp_Avg</th>\n      <th>Gen_Phase2_Temp_Avg</th>\n      <th>Gen_Phase3_Temp_Avg</th>\n      <th>Gen_SlipRing_Temp_Avg</th>\n      <th>...</th>\n      <th>Lead_Time_GENERATOR_BEARING</th>\n      <th>Default_in_60_GENERATOR_BEARING</th>\n      <th>Label_TRANSFORMER</th>\n      <th>Next_Default_Date_TRANSFORMER</th>\n      <th>Lead_Time_TRANSFORMER</th>\n      <th>Default_in_60_TRANSFORMER</th>\n      <th>Label_GEARBOX</th>\n      <th>Next_Default_Date_GEARBOX</th>\n      <th>Lead_Time_GEARBOX</th>\n      <th>Default_in_60_GEARBOX</th>\n    </tr>\n  </thead>\n  <tbody>\n    <tr>\n      <th>155127</th>\n      <td>T06</td>\n      <td>2017-05-02 00:20:00+00:00</td>\n      <td>0.166058</td>\n      <td>0.507718</td>\n      <td>0.342649</td>\n      <td>-0.540645</td>\n      <td>-0.762760</td>\n      <td>-0.752021</td>\n      <td>-0.714676</td>\n      <td>-0.543135</td>\n      <td>...</td>\n      <td>89462</td>\n      <td>False</td>\n      <td>0.0</td>\n      <td>2262-04-11 00:00:00+00:00</td>\n      <td>89462</td>\n      <td>False</td>\n      <td>0.0</td>\n      <td>2262-04-11 00:00:00+00:00</td>\n      <td>89462</td>\n      <td>False</td>\n    </tr>\n    <tr>\n      <th>155128</th>\n      <td>T06</td>\n      <td>2017-05-02 00:30:00+00:00</td>\n      <td>0.167598</td>\n      <td>0.523127</td>\n      <td>0.343931</td>\n      <td>-0.549653</td>\n      <td>-0.610862</td>\n      <td>-0.604845</td>\n      <td>-0.599802</td>\n      <td>-0.543135</td>\n      <td>...</td>\n      <td>89462</td>\n      <td>False</td>\n      <td>0.0</td>\n      <td>2262-04-11 00:00:00+00:00</td>\n      <td>89462</td>\n      <td>False</td>\n      <td>0.0</td>\n      <td>2262-04-11 00:00:00+00:00</td>\n      <td>89462</td>\n      <td>False</td>\n    </tr>\n    <tr>\n      <th>69854</th>\n      <td>T01</td>\n      <td>2017-05-02 00:30:00+00:00</td>\n      <td>0.169752</td>\n      <td>-1.051280</td>\n      <td>-0.108823</td>\n      <td>3.230260</td>\n      <td>-0.783824</td>\n      <td>-0.799318</td>\n      <td>-0.823619</td>\n      <td>-0.634519</td>\n      <td>...</td>\n      <td>89462</td>\n      <td>False</td>\n      <td>0.0</td>\n      <td>2017-08-11 13:10:00+00:00</td>\n      <td>101</td>\n      <td>False</td>\n      <td>0.0</td>\n      <td>2262-04-11 00:00:00+00:00</td>\n      <td>89462</td>\n      <td>False</td>\n    </tr>\n    <tr>\n      <th>242371</th>\n      <td>T07</td>\n      <td>2017-05-02 00:30:00+00:00</td>\n      <td>0.166353</td>\n      <td>0.504013</td>\n      <td>0.335841</td>\n      <td>-0.529115</td>\n      <td>-0.825384</td>\n      <td>-0.860886</td>\n      <td>-0.857731</td>\n      <td>-0.638504</td>\n      <td>...</td>\n      <td>110</td>\n      <td>False</td>\n      <td>0.0</td>\n      <td>2262-04-11 00:00:00+00:00</td>\n      <td>89462</td>\n      <td>False</td>\n      <td>0.0</td>\n      <td>2262-04-11 00:00:00+00:00</td>\n      <td>89462</td>\n      <td>False</td>\n    </tr>\n    <tr>\n      <th>329466</th>\n      <td>T09</td>\n      <td>2017-05-02 00:30:00+00:00</td>\n      <td>0.133798</td>\n      <td>0.531502</td>\n      <td>0.331753</td>\n      <td>-0.602091</td>\n      <td>-0.538037</td>\n      <td>-0.549877</td>\n      <td>-0.571722</td>\n      <td>-0.529612</td>\n      <td>...</td>\n      <td>89462</td>\n      <td>False</td>\n      <td>0.0</td>\n      <td>2262-04-11 00:00:00+00:00</td>\n      <td>89462</td>\n      <td>False</td>\n      <td>0.0</td>\n      <td>2262-04-11 00:00:00+00:00</td>\n      <td>89462</td>\n      <td>False</td>\n    </tr>\n    <tr>\n      <th>...</th>\n      <td>...</td>\n      <td>...</td>\n      <td>...</td>\n      <td>...</td>\n      <td>...</td>\n      <td>...</td>\n      <td>...</td>\n      <td>...</td>\n      <td>...</td>\n      <td>...</td>\n      <td>...</td>\n      <td>...</td>\n      <td>...</td>\n      <td>...</td>\n      <td>...</td>\n      <td>...</td>\n      <td>...</td>\n      <td>...</td>\n      <td>...</td>\n      <td>...</td>\n      <td>...</td>\n    </tr>\n    <tr>\n      <th>259722</th>\n      <td>T07</td>\n      <td>2017-09-01 00:00:00+00:00</td>\n      <td>0.194822</td>\n      <td>0.502250</td>\n      <td>0.333273</td>\n      <td>-0.502602</td>\n      <td>-0.032193</td>\n      <td>0.012545</td>\n      <td>0.017976</td>\n      <td>0.408223</td>\n      <td>...</td>\n      <td>89341</td>\n      <td>False</td>\n      <td>0.0</td>\n      <td>2262-04-11 00:00:00+00:00</td>\n      <td>89341</td>\n      <td>False</td>\n      <td>0.0</td>\n      <td>2262-04-11 00:00:00+00:00</td>\n      <td>89341</td>\n      <td>False</td>\n    </tr>\n    <tr>\n      <th>346872</th>\n      <td>T09</td>\n      <td>2017-09-01 00:00:00+00:00</td>\n      <td>0.150570</td>\n      <td>0.544656</td>\n      <td>0.336676</td>\n      <td>-0.575309</td>\n      <td>-0.112670</td>\n      <td>-0.088962</td>\n      <td>-0.090070</td>\n      <td>0.386262</td>\n      <td>...</td>\n      <td>89341</td>\n      <td>False</td>\n      <td>0.0</td>\n      <td>2262-04-11 00:00:00+00:00</td>\n      <td>89341</td>\n      <td>False</td>\n      <td>0.0</td>\n      <td>2262-04-11 00:00:00+00:00</td>\n      <td>89341</td>\n      <td>False</td>\n    </tr>\n    <tr>\n      <th>172521</th>\n      <td>T06</td>\n      <td>2017-09-01 00:00:00+00:00</td>\n      <td>0.194232</td>\n      <td>0.513496</td>\n      <td>0.346333</td>\n      <td>-0.511821</td>\n      <td>0.110654</td>\n      <td>0.094241</td>\n      <td>0.166022</td>\n      <td>0.390374</td>\n      <td>...</td>\n      <td>89341</td>\n      <td>False</td>\n      <td>0.0</td>\n      <td>2262-04-11 00:00:00+00:00</td>\n      <td>89341</td>\n      <td>False</td>\n      <td>0.0</td>\n      <td>2262-04-11 00:00:00+00:00</td>\n      <td>89341</td>\n      <td>False</td>\n    </tr>\n    <tr>\n      <th>87139</th>\n      <td>T01</td>\n      <td>2017-09-01 00:00:00+00:00</td>\n      <td>0.216726</td>\n      <td>0.510966</td>\n      <td>0.353224</td>\n      <td>-0.499308</td>\n      <td>-0.078471</td>\n      <td>-0.040962</td>\n      <td>-0.015461</td>\n      <td>0.525644</td>\n      <td>...</td>\n      <td>89341</td>\n      <td>False</td>\n      <td>0.0</td>\n      <td>2262-04-11 00:00:00+00:00</td>\n      <td>89341</td>\n      <td>False</td>\n      <td>0.0</td>\n      <td>2262-04-11 00:00:00+00:00</td>\n      <td>89341</td>\n      <td>False</td>\n    </tr>\n    <tr>\n      <th>434114</th>\n      <td>T11</td>\n      <td>2017-09-01 00:00:00+00:00</td>\n      <td>0.026870</td>\n      <td>0.442246</td>\n      <td>0.223106</td>\n      <td>-0.606923</td>\n      <td>-0.133160</td>\n      <td>-0.112422</td>\n      <td>-0.100662</td>\n      <td>0.317192</td>\n      <td>...</td>\n      <td>89341</td>\n      <td>False</td>\n      <td>0.0</td>\n      <td>2262-04-11 00:00:00+00:00</td>\n      <td>89341</td>\n      <td>False</td>\n      <td>0.0</td>\n      <td>2262-04-11 00:00:00+00:00</td>\n      <td>89341</td>\n      <td>False</td>\n    </tr>\n  </tbody>\n</table>\n<p>86823 rows × 78 columns</p>\n</div>"
     },
     "execution_count": 212,
     "metadata": {},
     "output_type": "execute_result"
    }
   ],
   "source": [
    "# Apply SMOTE to my data\n",
    "from imblearn.over_sampling import SMOTE\n",
    "from sklearn.ensemble import RandomForestClassifier\n",
    "from sklearn.metrics import accuracy_score, classification_report\n",
    "from sklearn.model_selection import train_test_split\n",
    "\n",
    "normalized_signal_sorted = normalized_signal.sort_values(by='Timestamp')\n",
    "train_size = int(len(normalized_signal_sorted) * 0.8)\n",
    "train_df = normalized_signal_sorted.iloc[:train_size]\n",
    "test_df = normalized_signal_sorted.iloc[train_size:]\n",
    "test_df\n",
    "\n",
    "# Y_labels = ['Default_in_60_GENERATOR', 'Default_in_60_HYDRAULIC_GROUP', 'Default_in_60_GENERATOR_BEARING', 'Default_in_60_TRANSFORMER', 'Default_in_60_GEARBOX']\n",
    "# def split_x_y(y_label, lead_time_label, df=normalized_signal):\n",
    "#     X = df.drop(['Turbine_ID',\n",
    "#                 'Timestamp',\n",
    "#                 'Label_GENERATOR',\n",
    "#                 'Next_Default_Date_GENERATOR', 'Lead_Time_GENERATOR',\n",
    "#                 'Default_in_60_GENERATOR', 'Label_HYDRAULIC_GROUP',\n",
    "#                 'Next_Default_Date_HYDRAULIC_GROUP', 'Lead_Time_HYDRAULIC_GROUP',\n",
    "#                 'Default_in_60_HYDRAULIC_GROUP', 'Label_GENERATOR_BEARING',\n",
    "#                 'Next_Default_Date_GENERATOR_BEARING', 'Lead_Time_GENERATOR_BEARING',\n",
    "#                 'Default_in_60_GENERATOR_BEARING', 'Label_TRANSFORMER',\n",
    "#                 'Next_Default_Date_TRANSFORMER', 'Lead_Time_TRANSFORMER',\n",
    "#                 'Default_in_60_TRANSFORMER', 'Label_GEARBOX',\n",
    "#                 'Next_Default_Date_GEARBOX', 'Lead_Time_GEARBOX',\n",
    "#                 'Default_in_60_GEARBOX'], axis=1)\n",
    "#     y = df[[y_label, lead_time_label]].astype(int)\n",
    "#     X_train, X_test, y_train, y_test = train_test_split(X, y, test_size=0.2, random_state=42, stratify=y)\n",
    "#     smote = SMOTE(random_state=42)\n",
    "#     # Resample the training data\n",
    "#     y_train = y_train[y_label]\n",
    "#     y_test_lead_time = y_test[lead_time_label]\n",
    "#     y_test = y_test[y_label]\n",
    "#     X_train_smote, y_train_smote = smote.fit_resample(X_train, y_train)\n",
    "#     return X_train_smote, X_test, y_train_smote, y_test, y_test_lead_time\n",
    "\n",
    "# rf_model = {}\n",
    "# for y in Y_labels:\n",
    "#     X_train_smote, X_test, y_train_smote, y_test = split_x_y(y)\n",
    "#     rf_clf = RandomForestClassifier(n_estimators=100, random_state=42)\n",
    "#     rf_clf.fit(X_train_smote, y_train_smote)\n",
    "#     y_predict = rf_clf.predict(X_test)\n",
    "#     report = classification_report(y_test, y_predict)\n",
    "#     print(\"For \" + y)\n",
    "#     print(report)\n",
    "# X_train_smote, X_test, y_train_smote, y_test, y_test_lead_time = split_x_y('Default_in_60_HYDRAULIC_GROUP', 'Lead_Time_HYDRAULIC_GROUP')\n",
    "# rf_clf = RandomForestClassifier(n_estimators=100, random_state=42)\n",
    "# rf_clf.fit(X_train_smote, y_train_smote)\n",
    "# y_predict = rf_clf.predict(X_test)\n",
    "# report = classification_report(y_test, y_predict)\n",
    "# print(\"For \" + y)\n",
    "# print(report)\n"
   ],
   "metadata": {
    "collapsed": false,
    "ExecuteTime": {
     "end_time": "2024-04-06T22:50:31.377463Z",
     "start_time": "2024-04-06T22:50:31.199508Z"
    }
   },
   "id": "8bc3f77729adc0ed",
   "execution_count": 212
  },
  {
   "cell_type": "markdown",
   "source": [
    "Split data into Training and Validation"
   ],
   "metadata": {
    "collapsed": false
   },
   "id": "c0971284b98b8a09"
  },
  {
   "cell_type": "code",
   "outputs": [
    {
     "name": "stdout",
     "output_type": "stream",
     "text": [
      "175254      514\n",
      "158595       85\n",
      "419248    89445\n",
      "216187      228\n",
      "130033      283\n",
      "          ...  \n",
      "167640       21\n",
      "245829       22\n",
      "60934     89524\n",
      "267247    89897\n",
      "226649      155\n",
      "Name: Lead_Time_HYDRAULIC_GROUP, Length: 86823, dtype: int64\n"
     ]
    }
   ],
   "source": [
    "print(y_test_lead_time)\n",
    "# FP, FN, TP_lead = 0, 0, []\n",
    "# warnings = {}\n",
    "# for i in range(len(y_predict)):\n",
    "#     if y_test[i] == 0 and y_predict[i] == 1:\n",
    "#         FP += 1\n",
    "#     elif y_test[i] == 1:\n",
    "#         event = Y_event[i]\n",
    "#         lead_time = Y_lead[i]\n",
    "#         if event not in warnings and y_pred[i] == 0:\n",
    "#             warnings[event] = -1\n",
    "#         elif event not in warnings and y_pred[i] == 1:\n",
    "#             warnings[event] = lead_time\n",
    "#         elif event in warnings and warnings[event] < 0:\n",
    "#             if y_pred[i] == 1:\n",
    "#                 warnings[event] = lead_time\n",
    "# for event, lead in warnings.items():\n",
    "#     if lead < 0:\n",
    "#         FN += 1\n",
    "#     else:\n",
    "#         TP_lead.append(lead)\n",
    "# \n",
    "# FP, FN, TP_lead\n",
    "# # Calculating saving for hydraulic group\n",
    "# R, M, I = 20000, 3000, 2000\n"
   ],
   "metadata": {
    "collapsed": false,
    "ExecuteTime": {
     "end_time": "2024-04-06T22:29:33.641070Z",
     "start_time": "2024-04-06T22:29:33.634403Z"
    }
   },
   "id": "7761ae571892bd18",
   "execution_count": 208
  },
  {
   "cell_type": "markdown",
   "source": [
    "## Feed into random forest model"
   ],
   "metadata": {
    "collapsed": false
   },
   "id": "6c155877360d887b"
  },
  {
   "cell_type": "code",
   "outputs": [
    {
     "name": "stdout",
     "output_type": "stream",
     "text": [
      "Validation Accuracy: 1.0000\n",
      "              precision    recall  f1-score   support\n",
      "\n",
      "           0       1.00      1.00      1.00    104263\n",
      "           1       1.00      1.00      1.00      4266\n",
      "\n",
      "    accuracy                           1.00    108529\n",
      "   macro avg       1.00      1.00      1.00    108529\n",
      "weighted avg       1.00      1.00      1.00    108529\n"
     ]
    }
   ],
   "source": [],
   "metadata": {
    "collapsed": false,
    "ExecuteTime": {
     "end_time": "2024-04-06T20:01:29.381670Z",
     "start_time": "2024-04-06T20:01:00.029352Z"
    }
   },
   "id": "a898533799fe002b",
   "execution_count": 176
  },
  {
   "cell_type": "code",
   "outputs": [],
   "source": [],
   "metadata": {
    "collapsed": false,
    "ExecuteTime": {
     "end_time": "2024-04-06T20:01:29.383365Z",
     "start_time": "2024-04-06T20:01:29.382192Z"
    }
   },
   "id": "57297746fbf9b904",
   "execution_count": 176
  }
 ],
 "metadata": {
  "kernelspec": {
   "display_name": "Python 3",
   "language": "python",
   "name": "python3"
  },
  "language_info": {
   "codemirror_mode": {
    "name": "ipython",
    "version": 2
   },
   "file_extension": ".py",
   "mimetype": "text/x-python",
   "name": "python",
   "nbconvert_exporter": "python",
   "pygments_lexer": "ipython2",
   "version": "2.7.6"
  }
 },
 "nbformat": 4,
 "nbformat_minor": 5
}
